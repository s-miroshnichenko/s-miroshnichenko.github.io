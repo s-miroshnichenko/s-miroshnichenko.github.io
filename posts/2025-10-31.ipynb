{
 "cells": [
  {
   "cell_type": "markdown",
   "id": "8ca3b95f",
   "metadata": {},
   "source": [
    "---\n",
    "title: \"Трансляция РНК вирусов\"\n",
    "date: 2025-10-31\n",
    "---"
   ]
  },
  {
   "cell_type": "markdown",
   "id": "76eab0c7",
   "metadata": {},
   "source": [
    "Трансляцией называется механизм производства белков, закодированных в РНК. "
   ]
  },
  {
   "cell_type": "markdown",
   "id": "46b866aa",
   "metadata": {},
   "source": [
    "РНК как и ДНК кодируется 4 символами. Но у РНК эти буквы: A, U, G, C (в отличии от A, T, G, C у ДНК). \n",
    "У эукариотов (например, нас с вами) трансляция начинается с поиска в коде РНК последовательности AUG. Это трехзначный кодон. Каждый следующий кодон означает белок, который нужно синтезировать."
   ]
  },
  {
   "cell_type": "markdown",
   "id": "d4a5a660",
   "metadata": {},
   "source": [
    "![РНК эукариота](../img/10-31-1.jpg)"
   ]
  },
  {
   "cell_type": "markdown",
   "id": "26fa3fb5",
   "metadata": {},
   "source": [
    "Сапиенсу не так важна компактность этого кода, а вот бактериям и тем более вирусам очень важна. \n",
    "Поэтому вирусы могут прочесть один и тот же участок РНК с разным сдвигом и произвести больше белков используя один и тот же код. "
   ]
  },
  {
   "cell_type": "markdown",
   "id": "4fbd0a84",
   "metadata": {},
   "source": [
    "![РНК вируса](../img/10-31-2.jpg)"
   ]
  },
  {
   "cell_type": "markdown",
   "id": "203b1e29",
   "metadata": {},
   "source": []
  }
 ],
 "metadata": {
  "date": "2025-09-25",
  "kernelspec": {
   "display_name": "Python 3 (ipykernel)",
   "language": "python",
   "name": "python3"
  },
  "language_info": {
   "codemirror_mode": {
    "name": "ipython",
    "version": 3
   },
   "file_extension": ".py",
   "mimetype": "text/x-python",
   "name": "python",
   "nbconvert_exporter": "python",
   "pygments_lexer": "ipython3",
   "version": "3.13.7"
  },
  "title": "Почему я завел этот блог"
 },
 "nbformat": 4,
 "nbformat_minor": 5
}
