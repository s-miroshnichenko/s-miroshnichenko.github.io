{
 "cells": [
  {
   "cell_type": "markdown",
   "id": "8ca3b95f",
   "metadata": {},
   "source": [
    "---\n",
    "title: \"Конфигурация молекулы ДНК у прокариотов\"\n",
    "date: 2025-10-30\n",
    "---"
   ]
  },
  {
   "cell_type": "markdown",
   "id": "e00b4d00",
   "metadata": {},
   "source": [
    "Курс [Introduction to Biology - The Secret of Life](https://learning.edx.org/course/course-v1:MITx+7.00x+2T2025/home) был перенесен в архив, но у меня остался доступ и к лекциям, и к заданиям. Так что я могу спойоно его закончить.\n",
    "На этой неделе мы перешли к молекулярной биологии. Теперь я знаю секрет жизни (ДНК) и как ее читать."
   ]
  },
  {
   "cell_type": "markdown",
   "id": "a7dded93",
   "metadata": {},
   "source": [
    "Старение обусловлено двумя основными причинами:\n",
    "- накопление ошибок при копировании ДНК\n",
    "- укорочение теломеры"
   ]
  },
  {
   "cell_type": "markdown",
   "id": "9f44e6e0",
   "metadata": {},
   "source": [
    "### Почему теломера укорачивается?"
   ]
  },
  {
   "cell_type": "markdown",
   "id": "600cc6da",
   "metadata": {},
   "source": [
    "Чтобы понять что такое теломера и почему она укорачивается нам нужно разобраться с [механизмом копирования ДНК](https://ssmiro.ru/posts/2025-10-30-1.html). Это довольно сложная тема для неподготовленного читателя. Наверняка есть объяснения и попонятнее, но я в своей статье стремился не отбрасывать мелочи. Я даже не уверен, что кто-то кроменя когда-то будет ее читать, поэтому главная цель ее написания - это самообучение. "
   ]
  },
  {
   "cell_type": "markdown",
   "id": "d071da85",
   "metadata": {},
   "source": [
    "### Интересное открытие сегодняшнего дня"
   ]
  },
  {
   "cell_type": "markdown",
   "id": "76eab0c7",
   "metadata": {},
   "source": [
    "У прокариотов (например батерий), молекула ДНК замкнута! То есть теломера им вообще не нужна. Но раз эволюция выбрала для нас линейную ДНК, видимо, она оказалась практичнее. "
   ]
  }
 ],
 "metadata": {
  "date": "2025-09-25",
  "kernelspec": {
   "display_name": "Python 3 (ipykernel)",
   "language": "python",
   "name": "python3"
  },
  "language_info": {
   "codemirror_mode": {
    "name": "ipython",
    "version": 3
   },
   "file_extension": ".py",
   "mimetype": "text/x-python",
   "name": "python",
   "nbconvert_exporter": "python",
   "pygments_lexer": "ipython3",
   "version": "3.13.7"
  },
  "title": "Почему я завел этот блог"
 },
 "nbformat": 4,
 "nbformat_minor": 5
}
