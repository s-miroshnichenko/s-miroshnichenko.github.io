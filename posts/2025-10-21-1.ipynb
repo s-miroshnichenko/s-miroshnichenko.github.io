{
 "cells": [
  {
   "cell_type": "markdown",
   "id": "8ca3b95f",
   "metadata": {},
   "source": [
    "---\n",
    "title: \"Возвращение к курсу ML от fast.ai\"\n",
    "---\n",
    "Я нашел [курс по генеративному ии](https://www.edx.org/certificates/professional-certificate/ibm-generative-ai-engineering?index=product&queryId=43fd79a173e724e5b5abad1e34712be1&position=1) от IBM довольно плохо сделанным.\n",
    "\n",
    "Я вернулся к прохождению [курса по глубокому обучению от fast.ai](https://course.fast.ai/). Это один из самых уважаемых курсов по ML, хоть его фокус направлен на компьютерное зрение."
   ]
  }
 ],
 "metadata": {
  "date": "2025-09-25",
  "kernelspec": {
   "display_name": "Python 3 (ipykernel)",
   "language": "python",
   "name": "python3"
  },
  "language_info": {
   "codemirror_mode": {
    "name": "ipython",
    "version": 3
   },
   "file_extension": ".py",
   "mimetype": "text/x-python",
   "name": "python",
   "nbconvert_exporter": "python",
   "pygments_lexer": "ipython3",
   "version": "3.13.7"
  },
  "title": "Почему я завел этот блог"
 },
 "nbformat": 4,
 "nbformat_minor": 5
}
