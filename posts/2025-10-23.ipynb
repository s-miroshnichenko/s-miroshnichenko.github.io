{
 "cells": [
  {
   "cell_type": "markdown",
   "id": "8ca3b95f",
   "metadata": {},
   "source": [
    "---\n",
    "title: \"Улучшения генома homo sapiens\"\n",
    "date: 2025-10-23\n",
    "---"
   ]
  },
  {
   "cell_type": "markdown",
   "id": "e00b4d00",
   "metadata": {},
   "source": [
    "### Что можно делать с техническим бэкграундом\n",
    "\n",
    "Я хочу улучшать геном человека. У меня есть техническое образование, но нет биологического.\n",
    "\n",
    "**Биоинформатика / анализ геномных данных** — самый естественный путь для инженера: работа с данными, ассоциации, ML-анализ."
   ]
  },
  {
   "cell_type": "markdown",
   "id": "0e2d6f27",
   "metadata": {},
   "source": [
    "### Что такое ассоциации (association studies)"
   ]
  },
  {
   "cell_type": "markdown",
   "id": "3a1e0702",
   "metadata": {},
   "source": [
    "Когда у тебя есть много людей и их варианты ДНК + фенотипы (например, \"Есть диабет / нет диабета\", \"рост\", \"IQ\", \"ответ на лекарство\"), ты можешь искать **ассоциации** между генетикой и признаком. "
   ]
  },
  {
   "cell_type": "markdown",
   "id": "a1e8d3ef",
   "metadata": {},
   "source": [
    "Это и есть **GWAS** - Genome-Wide Association Study."
   ]
  },
  {
   "cell_type": "markdown",
   "id": "e579faf4",
   "metadata": {},
   "source": [
    "### ML-анализ"
   ]
  },
  {
   "cell_type": "markdown",
   "id": "86d6c221",
   "metadata": {},
   "source": [
    "Для сложных черт (например, интеллект, депрессия, метаболизм) тысячи генов вносят микровклад. \n",
    "ML позволяет объединить всё это в предсказательную систему. "
   ]
  },
  {
   "cell_type": "markdown",
   "id": "b16bda30",
   "metadata": {},
   "source": [
    "### Что нужно изучить для работы с генетическими ассоциациями"
   ]
  },
  {
   "cell_type": "markdown",
   "id": "45379012",
   "metadata": {},
   "source": [
    "Начать можно с уже полюбившегося мне [курса MITx 7.00x: Introduction to Biology - The Secret of Life](https://learning.edx.org/course/course-v1:MITx+7.00x+2T2025/home). Жаль что через 4 дня его контент будет заархивирован и более не активен. Сохранить что ль лекции..."
   ]
  },
  {
   "cell_type": "markdown",
   "id": "f92d9364",
   "metadata": {},
   "source": []
  }
 ],
 "metadata": {
  "date": "2025-09-25",
  "kernelspec": {
   "display_name": "Python 3 (ipykernel)",
   "language": "python",
   "name": "python3"
  },
  "language_info": {
   "codemirror_mode": {
    "name": "ipython",
    "version": 3
   },
   "file_extension": ".py",
   "mimetype": "text/x-python",
   "name": "python",
   "nbconvert_exporter": "python",
   "pygments_lexer": "ipython3",
   "version": "3.13.7"
  },
  "title": "Почему я завел этот блог"
 },
 "nbformat": 4,
 "nbformat_minor": 5
}
